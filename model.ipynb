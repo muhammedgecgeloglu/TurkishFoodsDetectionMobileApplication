{
 "cells": [
  {
   "cell_type": "code",
   "execution_count": 1,
   "metadata": {},
   "outputs": [],
   "source": [
    "import numpy as np\n",
    "import tensorflow as tf\n",
    "from tensorflow import keras\n",
    "\n",
    "tf.__version__\n",
    "from tensorflow.python.keras.engine.sequential import Sequential\n",
    "from tensorflow.python.keras.layers import Dense, Conv2D, Flatten, Dropout, MaxPooling2D\n",
    "image_data_generator = tf.keras.preprocessing.image.ImageDataGenerator()\n",
    "\n",
    "from tensorflow.keras.applications import imagenet_utils\n",
    "from tensorflow.keras.applications.mobilenet_v2 import MobileNetV2, preprocess_input\n",
    "from tensorflow.keras.layers import Dense, Activation\n",
    "from tensorflow.keras.optimizers import Adam\n",
    "from tensorflow.keras.metrics import categorical_crossentropy\n",
    "from tensorflow.keras.preprocessing.image import ImageDataGenerator\n",
    "from tensorflow.keras.preprocessing import image\n",
    "from tensorflow.keras.models import Model\n",
    "from tensorflow.python.keras.layers.pooling import GlobalAveragePooling2D\n",
    "from sklearn.metrics import confusion_matrix\n",
    "import itertools\n",
    "import os\n",
    "import shutil\n",
    "import random\n",
    "import matplotlib.pyplot as plt\n",
    "%matplotlib inline"
   ]
  },
  {
   "cell_type": "code",
   "execution_count": 2,
   "metadata": {},
   "outputs": [],
   "source": [
    "mobile = tf.keras.applications.mobilenet_v2.MobileNetV2()"
   ]
  },
  {
   "cell_type": "code",
   "execution_count": 3,
   "metadata": {},
   "outputs": [
    {
     "name": "stdout",
     "output_type": "stream",
     "text": [
      "Num GPUs Available:  1\n",
      "[name: \"/device:CPU:0\"\n",
      "device_type: \"CPU\"\n",
      "memory_limit: 268435456\n",
      "locality {\n",
      "}\n",
      "incarnation: 13026815334732441687\n",
      "xla_global_id: -1\n",
      ", name: \"/device:GPU:0\"\n",
      "device_type: \"GPU\"\n",
      "memory_limit: 2256220980\n",
      "locality {\n",
      "  bus_id: 1\n",
      "  links {\n",
      "  }\n",
      "}\n",
      "incarnation: 17307819998812677351\n",
      "physical_device_desc: \"device: 0, name: NVIDIA GeForce GTX 1650, pci bus id: 0000:01:00.0, compute capability: 7.5\"\n",
      "xla_global_id: 416903419\n",
      "]\n"
     ]
    }
   ],
   "source": [
    "physical_devices = tf.config.experimental.list_physical_devices('GPU')\n",
    "print(\"Num GPUs Available: \", len(physical_devices))\n",
    "from tensorflow.python.client import device_lib\n",
    "print(device_lib.list_local_devices())"
   ]
  },
  {
   "cell_type": "code",
   "execution_count": 4,
   "metadata": {},
   "outputs": [],
   "source": [
    "train_path = 'data2/train'\n",
    "valid_path = 'data2/valid'\n",
    "test_path = 'data2/test'"
   ]
  },
  {
   "cell_type": "code",
   "execution_count": 5,
   "metadata": {},
   "outputs": [
    {
     "name": "stdout",
     "output_type": "stream",
     "text": [
      "Found 28446 images belonging to 80 classes.\n",
      "Found 4800 images belonging to 80 classes.\n",
      "Found 3200 images belonging to 80 classes.\n"
     ]
    }
   ],
   "source": [
    "train_batches = ImageDataGenerator(preprocessing_function=tf.keras.applications.mobilenet.preprocess_input).flow_from_directory(\n",
    "    directory=train_path, target_size=(224,224), batch_size=64)\n",
    "valid_batches = ImageDataGenerator(preprocessing_function=tf.keras.applications.mobilenet.preprocess_input).flow_from_directory(\n",
    "    directory=valid_path, target_size=(224,224), batch_size=64)\n",
    "test_batches = ImageDataGenerator(preprocessing_function=tf.keras.applications.mobilenet.preprocess_input).flow_from_directory(\n",
    "    directory=test_path, target_size=(224,224), batch_size=64, shuffle=False)"
   ]
  },
  {
   "cell_type": "code",
   "execution_count": 16,
   "metadata": {},
   "outputs": [],
   "source": [
    "IMG_SIZE = 224\n",
    "IMG_SHAPE = (IMG_SIZE, IMG_SIZE, 3)\n",
    "base_model = MobileNetV2(weights='imagenet' , include_top = False , input_shape=IMG_SHAPE)\n",
    "\n",
    "x = base_model.output\n",
    "x = GlobalAveragePooling2D()(x)\n",
    "x = Dense(512,activation='relu')(x)\n",
    "x = Dropout(0.2)(x)\n",
    "x = Dense(256,activation='relu')(x)\n",
    "x = Dropout(0.2)(x)\n",
    "x = Dense(128,activation='relu')(x)\n",
    "preds = Dense(80, activation='softmax')(x)\n",
    "\n",
    "model = Model(inputs=base_model.input, outputs=preds)"
   ]
  },
  {
   "cell_type": "code",
   "execution_count": 7,
   "metadata": {},
   "outputs": [],
   "source": [
    "for layers in model.layers[:-7]:\n",
    "    layers.trainable = False"
   ]
  },
  {
   "cell_type": "code",
   "execution_count": 8,
   "metadata": {},
   "outputs": [],
   "source": [
    "model.compile(optimizer=Adam(learning_rate=0.0001), loss='categorical_crossentropy', metrics=['accuracy'])"
   ]
  },
  {
   "cell_type": "code",
   "execution_count": 9,
   "metadata": {},
   "outputs": [
    {
     "name": "stdout",
     "output_type": "stream",
     "text": [
      "Epoch 1/30\n",
      "445/445 - 306s - loss: 2.8541 - accuracy: 0.3338 - val_loss: 1.8295 - val_accuracy: 0.5156 - 306s/epoch - 687ms/step\n",
      "Epoch 2/30\n",
      "445/445 - 116s - loss: 1.4816 - accuracy: 0.6061 - val_loss: 1.4522 - val_accuracy: 0.5987 - 116s/epoch - 262ms/step\n",
      "Epoch 3/30\n",
      "445/445 - 117s - loss: 1.1932 - accuracy: 0.6757 - val_loss: 1.2922 - val_accuracy: 0.6348 - 117s/epoch - 264ms/step\n",
      "Epoch 4/30\n",
      "445/445 - 102s - loss: 1.0316 - accuracy: 0.7181 - val_loss: 1.2189 - val_accuracy: 0.6546 - 102s/epoch - 228ms/step\n",
      "Epoch 5/30\n",
      "445/445 - 99s - loss: 0.9193 - accuracy: 0.7479 - val_loss: 1.1647 - val_accuracy: 0.6731 - 99s/epoch - 224ms/step\n",
      "Epoch 6/30\n",
      "445/445 - 99s - loss: 0.8305 - accuracy: 0.7728 - val_loss: 1.1411 - val_accuracy: 0.6792 - 99s/epoch - 222ms/step\n",
      "Epoch 7/30\n",
      "445/445 - 94s - loss: 0.7518 - accuracy: 0.7956 - val_loss: 1.1023 - val_accuracy: 0.6950 - 94s/epoch - 211ms/step\n",
      "Epoch 8/30\n",
      "445/445 - 86s - loss: 0.6862 - accuracy: 0.8146 - val_loss: 1.0852 - val_accuracy: 0.7013 - 86s/epoch - 193ms/step\n",
      "Epoch 9/30\n",
      "445/445 - 86s - loss: 0.6240 - accuracy: 0.8312 - val_loss: 1.0724 - val_accuracy: 0.7017 - 86s/epoch - 192ms/step\n",
      "Epoch 10/30\n",
      "445/445 - 87s - loss: 0.5704 - accuracy: 0.8460 - val_loss: 1.0611 - val_accuracy: 0.7088 - 87s/epoch - 195ms/step\n",
      "Epoch 11/30\n",
      "445/445 - 87s - loss: 0.5219 - accuracy: 0.8634 - val_loss: 1.0707 - val_accuracy: 0.7079 - 87s/epoch - 195ms/step\n",
      "Epoch 12/30\n",
      "445/445 - 86s - loss: 0.4731 - accuracy: 0.8783 - val_loss: 1.0558 - val_accuracy: 0.7196 - 86s/epoch - 194ms/step\n",
      "Epoch 13/30\n",
      "445/445 - 86s - loss: 0.4335 - accuracy: 0.8896 - val_loss: 1.0640 - val_accuracy: 0.7144 - 86s/epoch - 193ms/step\n",
      "Epoch 14/30\n",
      "445/445 - 85s - loss: 0.3914 - accuracy: 0.9018 - val_loss: 1.0484 - val_accuracy: 0.7192 - 85s/epoch - 191ms/step\n",
      "Epoch 15/30\n",
      "445/445 - 85s - loss: 0.3552 - accuracy: 0.9121 - val_loss: 1.0348 - val_accuracy: 0.7273 - 85s/epoch - 191ms/step\n",
      "Epoch 16/30\n",
      "445/445 - 85s - loss: 0.3193 - accuracy: 0.9250 - val_loss: 1.0428 - val_accuracy: 0.7292 - 85s/epoch - 191ms/step\n",
      "Epoch 17/30\n",
      "445/445 - 85s - loss: 0.2875 - accuracy: 0.9335 - val_loss: 1.0457 - val_accuracy: 0.7283 - 85s/epoch - 191ms/step\n",
      "Epoch 18/30\n",
      "445/445 - 86s - loss: 0.2569 - accuracy: 0.9441 - val_loss: 1.0748 - val_accuracy: 0.7292 - 86s/epoch - 193ms/step\n",
      "Epoch 19/30\n",
      "445/445 - 86s - loss: 0.2290 - accuracy: 0.9517 - val_loss: 1.0737 - val_accuracy: 0.7321 - 86s/epoch - 193ms/step\n",
      "Epoch 20/30\n",
      "445/445 - 88s - loss: 0.2023 - accuracy: 0.9606 - val_loss: 1.1086 - val_accuracy: 0.7271 - 88s/epoch - 199ms/step\n",
      "Epoch 21/30\n",
      "445/445 - 88s - loss: 0.1774 - accuracy: 0.9670 - val_loss: 1.1089 - val_accuracy: 0.7285 - 88s/epoch - 197ms/step\n",
      "Epoch 22/30\n",
      "445/445 - 85s - loss: 0.1568 - accuracy: 0.9727 - val_loss: 1.1187 - val_accuracy: 0.7312 - 85s/epoch - 191ms/step\n",
      "Epoch 23/30\n",
      "445/445 - 85s - loss: 0.1360 - accuracy: 0.9781 - val_loss: 1.1359 - val_accuracy: 0.7331 - 85s/epoch - 191ms/step\n",
      "Epoch 24/30\n",
      "445/445 - 85s - loss: 0.1184 - accuracy: 0.9827 - val_loss: 1.1600 - val_accuracy: 0.7319 - 85s/epoch - 191ms/step\n",
      "Epoch 25/30\n",
      "445/445 - 85s - loss: 0.1029 - accuracy: 0.9863 - val_loss: 1.1608 - val_accuracy: 0.7333 - 85s/epoch - 190ms/step\n",
      "Epoch 26/30\n",
      "445/445 - 85s - loss: 0.0895 - accuracy: 0.9882 - val_loss: 1.1867 - val_accuracy: 0.7323 - 85s/epoch - 191ms/step\n",
      "Epoch 27/30\n",
      "445/445 - 85s - loss: 0.0763 - accuracy: 0.9923 - val_loss: 1.2199 - val_accuracy: 0.7306 - 85s/epoch - 191ms/step\n",
      "Epoch 28/30\n",
      "445/445 - 85s - loss: 0.0668 - accuracy: 0.9928 - val_loss: 1.2624 - val_accuracy: 0.7350 - 85s/epoch - 191ms/step\n",
      "Epoch 29/30\n",
      "445/445 - 85s - loss: 0.0568 - accuracy: 0.9956 - val_loss: 1.2545 - val_accuracy: 0.7365 - 85s/epoch - 191ms/step\n",
      "Epoch 30/30\n",
      "445/445 - 85s - loss: 0.0500 - accuracy: 0.9961 - val_loss: 1.2751 - val_accuracy: 0.7404 - 85s/epoch - 191ms/step\n"
     ]
    },
    {
     "data": {
      "text/plain": [
       "<keras.callbacks.History at 0x2a455f6bb20>"
      ]
     },
     "execution_count": 9,
     "metadata": {},
     "output_type": "execute_result"
    }
   ],
   "source": [
    "model.fit(x=train_batches,\n",
    "            steps_per_epoch=len(train_batches),\n",
    "            validation_data=valid_batches,\n",
    "            validation_steps=len(valid_batches),\n",
    "            epochs=30,\n",
    "            verbose=2\n",
    ")"
   ]
  },
  {
   "cell_type": "code",
   "execution_count": 10,
   "metadata": {},
   "outputs": [],
   "source": [
    "model.save('models/model_4.h5')"
   ]
  },
  {
   "cell_type": "code",
   "execution_count": null,
   "metadata": {},
   "outputs": [],
   "source": []
  }
 ],
 "metadata": {
  "kernelspec": {
   "display_name": "Python 3",
   "language": "python",
   "name": "python3"
  },
  "language_info": {
   "codemirror_mode": {
    "name": "ipython",
    "version": 3
   },
   "file_extension": ".py",
   "mimetype": "text/x-python",
   "name": "python",
   "nbconvert_exporter": "python",
   "pygments_lexer": "ipython3",
   "version": "3.8.5"
  }
 },
 "nbformat": 4,
 "nbformat_minor": 4
}
